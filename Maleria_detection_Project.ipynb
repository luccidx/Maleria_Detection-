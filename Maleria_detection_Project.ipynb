{
 "cells": [
  {
   "cell_type": "code",
   "execution_count": 1,
   "metadata": {
    "colab": {
     "base_uri": "https://localhost:8080/",
     "height": 202
    },
    "id": "ZggiTk--p9aC",
    "outputId": "a482a6f7-b263-4844-fbe7-057794f8d6f9"
   },
   "outputs": [
    {
     "name": "stderr",
     "output_type": "stream",
     "text": [
      "'wget' is not recognized as an internal or external command,\n",
      "operable program or batch file.\n"
     ]
    }
   ],
   "source": [
    "!wget https://ceb.nlm.nih.gov/proj/malaria/cell_images.zip"
   ]
  },
  {
   "cell_type": "code",
   "execution_count": 2,
   "metadata": {
    "colab": {
     "base_uri": "https://localhost:8080/",
     "height": 34
    },
    "id": "hKREmJY1qLDB",
    "outputId": "ad1b9bde-8479-416e-c202-d54750584cd3"
   },
   "outputs": [
    {
     "name": "stdout",
     "output_type": "stream",
     "text": [
      " Volume in drive C has no label.\n",
      " Volume Serial Number is 12DB-87BE\n",
      "\n",
      " Directory of C:\\Users\\SANTOSH\\Internship IITKGP\n",
      "\n",
      "02-10-2020  12:41 PM    <DIR>          .\n",
      "02-10-2020  12:41 PM    <DIR>          ..\n",
      "01-10-2020  07:24 AM    <DIR>          .ipynb_checkpoints\n",
      "19-08-2020  10:07 PM             9,231 1 IITKGP Python basics1.ipynb\n",
      "28-08-2020  08:18 AM            16,667 10IITKGP Machine Learning.ipynb\n",
      "12-09-2020  07:26 PM            55,398 11 IITKGP Linear Regression.ipynb\n",
      "31-08-2020  06:41 AM            31,225 11(2)Face Detection System with opencv.ipynb\n",
      "01-09-2020  06:16 AM            16,022 12 IITKGP Logestic regression.ipynb\n",
      "01-09-2020  07:57 PM            10,842 13 Play with Browser.ipynb\n",
      "03-09-2020  07:09 AM            24,413 13(2) Play with browser contd..ipynb\n",
      "04-09-2020  06:20 AM            38,486 14 NLTK.ipynb\n",
      "04-09-2020  09:59 PM            12,792 15 KNN - From Scatch.ipynb\n",
      "07-09-2020  11:31 PM            52,431 16 Hand Digit Recognition.ipynb\n",
      "11-09-2020  06:05 AM           348,727 17 Movie Recommendation System.ipynb\n",
      "11-09-2020  11:51 PM            11,465 18 Naive Bayes Algo.ipynb\n",
      "12-09-2020  06:22 AM               665 19 Naive Bayes - with python.ipynb\n",
      "12-09-2020  08:07 AM            53,099 19(2) Naive Bayes - With Python.ipynb\n",
      "29-09-2020  07:21 AM            77,352 1IrdJ5PghD9YoOyVAQ73MJw.gif\n",
      "19-08-2020  10:11 PM            20,679 2 IITKGP Python basics2.ipynb\n",
      "15-09-2020  06:14 AM            29,491 20 K-Mean from Scratch with IRIS And MNIST.ipynb\n",
      "23-09-2020  06:25 AM             3,441 25 Deep Learning Intro with Single Perceptron.ipynb\n",
      "24-09-2020  07:41 AM            63,736 26 Multi Perceptron Neural Network.ipynb\n",
      "24-09-2020  07:45 AM            45,596 27 Deep learning on IRIS data set.ipynb\n",
      "30-09-2020  06:51 AM           185,880 28 Deep learning on MNIST Data Set.ipynb\n",
      "01-10-2020  06:10 AM            26,784 29 Grid Search.ipynb\n",
      "19-08-2020  11:54 PM            12,007 3 IITKGP Data struct. & Func..ipynb\n",
      "01-10-2020  07:24 AM             7,130 30 Convolutional Neural Network.ipynb\n",
      "01-10-2020  07:25 AM               555 30(1) - DeepLearning DogvsCat Classification.ipynb\n",
      "28-08-2020  04:51 PM            34,364 4(1) IITKGP Numpy & Array.ipynb\n",
      "28-08-2020  04:39 PM         1,374,962 4(2) & 9 IITKGP Play with images and CV2.ipynb\n",
      "26-08-2020  11:40 PM            27,357 5 IITKGP Data Analysis with Pandas.ipynb\n",
      "27-08-2020  10:30 AM           126,577 6 IITKGP Data Anlysis Contd. with Pandas.ipynb\n",
      "27-08-2020  10:21 AM           331,328 7 IITKGP Data Anlysis Contd. with Pandas.ipynb\n",
      "27-08-2020  10:28 AM           137,454 8(1) IITKGP Data Anlysis Contd. with Pandas.ipynb\n",
      "27-08-2020  08:49 AM         7,831,933 8(2) IITKGP MathplotLib and PlotLy.ipynb\n",
      "27-08-2020  08:30 PM         5,023,147 9 IITKGP MathplotLib and PlotLy Contd..ipynb\n",
      "04-09-2020  06:15 AM             1,299 ai.csv\n",
      "02-10-2020  07:56 AM            50,652 cat-img.jpg\n",
      "26-08-2020  05:25 PM         9,615,360 chromedriver.exe\n",
      "01-09-2020  06:29 AM         5,204,275 chromedriver_win32.zip\n",
      "27-08-2020  08:01 AM            24,592 coffin.jpg\n",
      "10-09-2020  07:50 AM        23,432,174 data.csv\n",
      "04-09-2020  06:15 AM         1,807,296 data_analyst.csv\n",
      "04-09-2020  06:15 AM         1,987,434 datascience2.csv\n",
      "01-09-2020  08:15 AM             1,103 debug.log\n",
      "24-08-2020  06:29 AM                99 Demo.csv\n",
      "01-09-2020  06:22 AM            23,873 diabetes.csv\n",
      "20-08-2020  11:53 PM           134,155 DjD.jpeg\n",
      "11-09-2020  08:17 PM               152 flu dataset.csv\n",
      "28-08-2020  08:12 AM         6,352,684 haarcascade_frontalface_alt.xml\n",
      "28-08-2020  08:32 AM           930,127 haarcascade_frontalface_default.xml\n",
      "01-09-2020  06:22 AM             2,641 headbrain.csv\n",
      "29-08-2020  06:24 AM               194 Height_weight.csv\n",
      "26-08-2020  07:46 AM         1,423,529 housing.csv\n",
      "29-08-2020  08:42 AM    <DIR>          Image\n",
      "27-08-2020  08:22 AM             3,975 iris.csv\n",
      "02-10-2020  06:40 AM            20,703 LeNet-5-1998.png\n",
      "31-08-2020  08:13 AM               876 loan_approve_or_not.pkl\n",
      "29-08-2020  07:14 AM            78,807 loanf.csv\n",
      "05-09-2019  07:18 PM           308,725 Luccidx.jpg\n",
      "04-09-2020  06:14 AM         2,349,056 machinelearning.csv\n",
      "01-09-2020  11:25 PM             1,413 MachineLearningJobs.csv\n",
      "02-10-2020  12:40 PM           707,088 Maleria_detection_Project.ipynb\n",
      "02-10-2020  12:07 PM             7,122 maleria-infected-cell.png\n",
      "29-09-2020  07:54 AM         8,660,416 mnist_best_model.hdf5\n",
      "29-09-2020  07:57 AM         8,660,416 mnist_best_model-01--0.95.hdf5\n",
      "30-09-2020  06:48 AM         8,660,400 mnist_best_model-01--0.96.hdf5\n",
      "29-09-2020  08:01 AM         8,660,416 mnist_best_model-01--0.98.hdf5\n",
      "30-09-2020  06:49 AM         8,660,400 mnist_best_model-02--0.97.hdf5\n",
      "30-09-2020  06:49 AM         8,660,400 mnist_best_model-03--0.97.hdf5\n",
      "29-09-2020  08:02 AM         8,660,416 mnist_best_model-03--0.98.hdf5\n",
      "30-09-2020  06:49 AM         8,660,400 mnist_best_model-04--0.97.hdf5\n",
      "30-09-2020  06:49 AM         8,660,400 mnist_best_model-05--0.97.hdf5\n",
      "30-09-2020  06:49 AM         8,660,320 mnist_best_model-05--0.98.hdf5\n",
      "30-09-2020  06:49 AM         8,660,320 mnist_best_model-06--0.98.hdf5\n",
      "30-09-2020  06:49 AM         8,660,400 mnist_best_model-07--0.98.hdf5\n",
      "30-09-2020  06:49 AM         8,660,400 mnist_best_model-08--0.98.hdf5\n",
      "30-09-2020  06:49 AM         8,660,400 mnist_best_model-09--0.98.hdf5\n",
      "30-09-2020  06:50 AM         8,660,320 mnist_best_model-10--0.98.hdf5\n",
      "30-09-2020  06:48 AM         8,660,304 mnist_with_dropout.h5\n",
      "02-10-2020  07:15 AM       103,593,936 model_catsVSdogs-02--0.91.hdf5\n",
      "10-09-2020  06:35 AM           494,431 movies.csv\n",
      "24-08-2020  06:32 AM            32,823 nba.csv\n",
      "24-08-2020  04:28 PM             1,395 nyc_weather.csv\n",
      "28-08-2020  09:41 AM           119,598 oned.jpg\n",
      "01-09-2020  08:09 PM    <DIR>          Practice Folder\n",
      "01-10-2020  06:49 AM           328,190 puppy.jpg\n",
      "10-09-2020  06:35 AM         2,483,723 ratings.csv\n",
      "01-09-2020  06:23 AM            18,220 Real estate.csv\n",
      "24-08-2020  06:27 AM        24,956,107 Sale.csv\n",
      "21-08-2020  07:09 AM            10,898 Schedule Table.xlsx\n",
      "28-08-2020  08:46 AM           108,963 ss.jpg\n",
      "27-08-2020  06:31 AM         3,428,773 temp-plot.html\n",
      "02-10-2020  12:22 PM            17,420 Uninfected-maleria-cell.png\n",
      "30-08-2020  11:07 PM             4,303 Untitled.ipynb\n",
      "27-08-2020  06:31 AM            20,856 Year VS Profit.png\n",
      "              91 File(s)    344,696,404 bytes\n",
      "               5 Dir(s)   2,695,344,128 bytes free\n"
     ]
    }
   ],
   "source": [
    "ls"
   ]
  },
  {
   "cell_type": "code",
   "execution_count": 3,
   "metadata": {
    "colab": {
     "base_uri": "https://localhost:8080/",
     "height": 1000
    },
    "id": "30QQohl-qTKt",
    "outputId": "51ce4fd4-58e9-4302-bb09-42b1ba510ada"
   },
   "outputs": [
    {
     "name": "stderr",
     "output_type": "stream",
     "text": [
      "'unzip' is not recognized as an internal or external command,\n",
      "operable program or batch file.\n"
     ]
    }
   ],
   "source": [
    "!unzip cell_images.zip"
   ]
  },
  {
   "cell_type": "code",
   "execution_count": 4,
   "metadata": {
    "colab": {
     "base_uri": "https://localhost:8080/",
     "height": 34
    },
    "id": "fzm2B26rqakd",
    "outputId": "cb31120d-4a25-408c-e400-f87e26a50623"
   },
   "outputs": [
    {
     "name": "stdout",
     "output_type": "stream",
     "text": [
      " Volume in drive C has no label.\n",
      " Volume Serial Number is 12DB-87BE\n",
      "\n",
      " Directory of C:\\Users\\SANTOSH\\Internship IITKGP\n",
      "\n",
      "02-10-2020  12:41 PM    <DIR>          .\n",
      "02-10-2020  12:41 PM    <DIR>          ..\n",
      "01-10-2020  07:24 AM    <DIR>          .ipynb_checkpoints\n",
      "19-08-2020  10:07 PM             9,231 1 IITKGP Python basics1.ipynb\n",
      "28-08-2020  08:18 AM            16,667 10IITKGP Machine Learning.ipynb\n",
      "12-09-2020  07:26 PM            55,398 11 IITKGP Linear Regression.ipynb\n",
      "31-08-2020  06:41 AM            31,225 11(2)Face Detection System with opencv.ipynb\n",
      "01-09-2020  06:16 AM            16,022 12 IITKGP Logestic regression.ipynb\n",
      "01-09-2020  07:57 PM            10,842 13 Play with Browser.ipynb\n",
      "03-09-2020  07:09 AM            24,413 13(2) Play with browser contd..ipynb\n",
      "04-09-2020  06:20 AM            38,486 14 NLTK.ipynb\n",
      "04-09-2020  09:59 PM            12,792 15 KNN - From Scatch.ipynb\n",
      "07-09-2020  11:31 PM            52,431 16 Hand Digit Recognition.ipynb\n",
      "11-09-2020  06:05 AM           348,727 17 Movie Recommendation System.ipynb\n",
      "11-09-2020  11:51 PM            11,465 18 Naive Bayes Algo.ipynb\n",
      "12-09-2020  06:22 AM               665 19 Naive Bayes - with python.ipynb\n",
      "12-09-2020  08:07 AM            53,099 19(2) Naive Bayes - With Python.ipynb\n",
      "29-09-2020  07:21 AM            77,352 1IrdJ5PghD9YoOyVAQ73MJw.gif\n",
      "19-08-2020  10:11 PM            20,679 2 IITKGP Python basics2.ipynb\n",
      "15-09-2020  06:14 AM            29,491 20 K-Mean from Scratch with IRIS And MNIST.ipynb\n",
      "23-09-2020  06:25 AM             3,441 25 Deep Learning Intro with Single Perceptron.ipynb\n",
      "24-09-2020  07:41 AM            63,736 26 Multi Perceptron Neural Network.ipynb\n",
      "24-09-2020  07:45 AM            45,596 27 Deep learning on IRIS data set.ipynb\n",
      "30-09-2020  06:51 AM           185,880 28 Deep learning on MNIST Data Set.ipynb\n",
      "01-10-2020  06:10 AM            26,784 29 Grid Search.ipynb\n",
      "19-08-2020  11:54 PM            12,007 3 IITKGP Data struct. & Func..ipynb\n",
      "01-10-2020  07:24 AM             7,130 30 Convolutional Neural Network.ipynb\n",
      "01-10-2020  07:25 AM               555 30(1) - DeepLearning DogvsCat Classification.ipynb\n",
      "28-08-2020  04:51 PM            34,364 4(1) IITKGP Numpy & Array.ipynb\n",
      "28-08-2020  04:39 PM         1,374,962 4(2) & 9 IITKGP Play with images and CV2.ipynb\n",
      "26-08-2020  11:40 PM            27,357 5 IITKGP Data Analysis with Pandas.ipynb\n",
      "27-08-2020  10:30 AM           126,577 6 IITKGP Data Anlysis Contd. with Pandas.ipynb\n",
      "27-08-2020  10:21 AM           331,328 7 IITKGP Data Anlysis Contd. with Pandas.ipynb\n",
      "27-08-2020  10:28 AM           137,454 8(1) IITKGP Data Anlysis Contd. with Pandas.ipynb\n",
      "27-08-2020  08:49 AM         7,831,933 8(2) IITKGP MathplotLib and PlotLy.ipynb\n",
      "27-08-2020  08:30 PM         5,023,147 9 IITKGP MathplotLib and PlotLy Contd..ipynb\n",
      "04-09-2020  06:15 AM             1,299 ai.csv\n",
      "02-10-2020  07:56 AM            50,652 cat-img.jpg\n",
      "26-08-2020  05:25 PM         9,615,360 chromedriver.exe\n",
      "01-09-2020  06:29 AM         5,204,275 chromedriver_win32.zip\n",
      "27-08-2020  08:01 AM            24,592 coffin.jpg\n",
      "10-09-2020  07:50 AM        23,432,174 data.csv\n",
      "04-09-2020  06:15 AM         1,807,296 data_analyst.csv\n",
      "04-09-2020  06:15 AM         1,987,434 datascience2.csv\n",
      "01-09-2020  08:15 AM             1,103 debug.log\n",
      "24-08-2020  06:29 AM                99 Demo.csv\n",
      "01-09-2020  06:22 AM            23,873 diabetes.csv\n",
      "20-08-2020  11:53 PM           134,155 DjD.jpeg\n",
      "11-09-2020  08:17 PM               152 flu dataset.csv\n",
      "28-08-2020  08:12 AM         6,352,684 haarcascade_frontalface_alt.xml\n",
      "28-08-2020  08:32 AM           930,127 haarcascade_frontalface_default.xml\n",
      "01-09-2020  06:22 AM             2,641 headbrain.csv\n",
      "29-08-2020  06:24 AM               194 Height_weight.csv\n",
      "26-08-2020  07:46 AM         1,423,529 housing.csv\n",
      "29-08-2020  08:42 AM    <DIR>          Image\n",
      "27-08-2020  08:22 AM             3,975 iris.csv\n",
      "02-10-2020  06:40 AM            20,703 LeNet-5-1998.png\n",
      "31-08-2020  08:13 AM               876 loan_approve_or_not.pkl\n",
      "29-08-2020  07:14 AM            78,807 loanf.csv\n",
      "05-09-2019  07:18 PM           308,725 Luccidx.jpg\n",
      "04-09-2020  06:14 AM         2,349,056 machinelearning.csv\n",
      "01-09-2020  11:25 PM             1,413 MachineLearningJobs.csv\n",
      "02-10-2020  12:40 PM           707,088 Maleria_detection_Project.ipynb\n",
      "02-10-2020  12:07 PM             7,122 maleria-infected-cell.png\n",
      "29-09-2020  07:54 AM         8,660,416 mnist_best_model.hdf5\n",
      "29-09-2020  07:57 AM         8,660,416 mnist_best_model-01--0.95.hdf5\n",
      "30-09-2020  06:48 AM         8,660,400 mnist_best_model-01--0.96.hdf5\n",
      "29-09-2020  08:01 AM         8,660,416 mnist_best_model-01--0.98.hdf5\n",
      "30-09-2020  06:49 AM         8,660,400 mnist_best_model-02--0.97.hdf5\n",
      "30-09-2020  06:49 AM         8,660,400 mnist_best_model-03--0.97.hdf5\n",
      "29-09-2020  08:02 AM         8,660,416 mnist_best_model-03--0.98.hdf5\n",
      "30-09-2020  06:49 AM         8,660,400 mnist_best_model-04--0.97.hdf5\n",
      "30-09-2020  06:49 AM         8,660,400 mnist_best_model-05--0.97.hdf5\n",
      "30-09-2020  06:49 AM         8,660,320 mnist_best_model-05--0.98.hdf5\n",
      "30-09-2020  06:49 AM         8,660,320 mnist_best_model-06--0.98.hdf5\n",
      "30-09-2020  06:49 AM         8,660,400 mnist_best_model-07--0.98.hdf5\n",
      "30-09-2020  06:49 AM         8,660,400 mnist_best_model-08--0.98.hdf5\n",
      "30-09-2020  06:49 AM         8,660,400 mnist_best_model-09--0.98.hdf5\n",
      "30-09-2020  06:50 AM         8,660,320 mnist_best_model-10--0.98.hdf5\n",
      "30-09-2020  06:48 AM         8,660,304 mnist_with_dropout.h5\n",
      "02-10-2020  07:15 AM       103,593,936 model_catsVSdogs-02--0.91.hdf5\n",
      "10-09-2020  06:35 AM           494,431 movies.csv\n",
      "24-08-2020  06:32 AM            32,823 nba.csv\n",
      "24-08-2020  04:28 PM             1,395 nyc_weather.csv\n",
      "28-08-2020  09:41 AM           119,598 oned.jpg\n",
      "01-09-2020  08:09 PM    <DIR>          Practice Folder\n",
      "01-10-2020  06:49 AM           328,190 puppy.jpg\n",
      "10-09-2020  06:35 AM         2,483,723 ratings.csv\n",
      "01-09-2020  06:23 AM            18,220 Real estate.csv\n",
      "24-08-2020  06:27 AM        24,956,107 Sale.csv\n",
      "21-08-2020  07:09 AM            10,898 Schedule Table.xlsx\n",
      "28-08-2020  08:46 AM           108,963 ss.jpg\n",
      "27-08-2020  06:31 AM         3,428,773 temp-plot.html\n",
      "02-10-2020  12:22 PM            17,420 Uninfected-maleria-cell.png\n",
      "30-08-2020  11:07 PM             4,303 Untitled.ipynb\n",
      "27-08-2020  06:31 AM            20,856 Year VS Profit.png\n",
      "              91 File(s)    344,696,404 bytes\n",
      "               5 Dir(s)   2,695,376,896 bytes free\n"
     ]
    }
   ],
   "source": [
    "ls"
   ]
  },
  {
   "cell_type": "code",
   "execution_count": 5,
   "metadata": {
    "id": "bJ-BXlIOsorY"
   },
   "outputs": [],
   "source": [
    "Parasitized_dir = \"./cell_images/Parasitized\"\n",
    "Uninfected_dir = \"./cell_images/Uninfected\""
   ]
  },
  {
   "cell_type": "code",
   "execution_count": 6,
   "metadata": {
    "id": "n6_pPop__ZTS"
   },
   "outputs": [],
   "source": [
    "import os"
   ]
  },
  {
   "cell_type": "code",
   "execution_count": 7,
   "metadata": {
    "colab": {
     "base_uri": "https://localhost:8080/",
     "height": 34
    },
    "id": "Z16yvaiW_bL2",
    "outputId": "6350c95d-c52f-4914-b1be-fe4a359b6673"
   },
   "outputs": [
    {
     "ename": "FileNotFoundError",
     "evalue": "[WinError 3] The system cannot find the path specified: './cell_images/Parasitized'",
     "output_type": "error",
     "traceback": [
      "\u001b[1;31m---------------------------------------------------------------------------\u001b[0m",
      "\u001b[1;31mFileNotFoundError\u001b[0m                         Traceback (most recent call last)",
      "\u001b[1;32m<ipython-input-7-e806f29fa473>\u001b[0m in \u001b[0;36m<module>\u001b[1;34m\u001b[0m\n\u001b[1;32m----> 1\u001b[1;33m \u001b[0mlen\u001b[0m\u001b[1;33m(\u001b[0m\u001b[0mos\u001b[0m\u001b[1;33m.\u001b[0m\u001b[0mlistdir\u001b[0m\u001b[1;33m(\u001b[0m\u001b[0mParasitized_dir\u001b[0m\u001b[1;33m)\u001b[0m\u001b[1;33m)\u001b[0m\u001b[1;33m\u001b[0m\u001b[1;33m\u001b[0m\u001b[0m\n\u001b[0m",
      "\u001b[1;31mFileNotFoundError\u001b[0m: [WinError 3] The system cannot find the path specified: './cell_images/Parasitized'"
     ]
    }
   ],
   "source": [
    "len(os.listdir(Parasitized_dir))"
   ]
  },
  {
   "cell_type": "code",
   "execution_count": null,
   "metadata": {
    "colab": {
     "base_uri": "https://localhost:8080/",
     "height": 34
    },
    "id": "Z6d_4zYr_oRJ",
    "outputId": "f79d9bff-12fe-452e-ff60-aee223877281"
   },
   "outputs": [],
   "source": [
    "len(os.listdir(Uninfected_dir))"
   ]
  },
  {
   "cell_type": "code",
   "execution_count": null,
   "metadata": {
    "colab": {
     "base_uri": "https://localhost:8080/",
     "height": 1000
    },
    "id": "VArjrGsV_s-k",
    "outputId": "1126ba49-7203-46e9-eabb-a9c99d73a72e"
   },
   "outputs": [],
   "source": [
    "Parasitized_images = os.listdir(Parasitized_dir)\n",
    "Parasitized_images"
   ]
  },
  {
   "cell_type": "code",
   "execution_count": null,
   "metadata": {
    "id": "CwhZUCmf_80-"
   },
   "outputs": [],
   "source": [
    "from PIL import Image"
   ]
  },
  {
   "cell_type": "code",
   "execution_count": null,
   "metadata": {
    "colab": {
     "base_uri": "https://localhost:8080/",
     "height": 144
    },
    "id": "cbuYBdJLAH5a",
    "outputId": "2d28db60-144a-41b1-bce5-a6d78cbf44a6"
   },
   "outputs": [],
   "source": [
    "Image.open(Parasitized_dir + \"/C123P84ThinF_IMG_20151002_150931_cell_200.png\")"
   ]
  },
  {
   "cell_type": "code",
   "execution_count": null,
   "metadata": {
    "id": "4SxbJDQUAQUM"
   },
   "outputs": [],
   "source": [
    "from tensorflow.keras.layers import Conv2D, MaxPool2D, Dense, Dropout, Flatten\n",
    "from tensorflow.keras.models import Sequential\n",
    "from tensorflow.keras.preprocessing.image import ImageDataGenerator"
   ]
  },
  {
   "cell_type": "code",
   "execution_count": null,
   "metadata": {
    "id": "F05MJtkCAaFH"
   },
   "outputs": [],
   "source": [
    "train_dir = \"./cell_images\"\n",
    "data_gen = ImageDataGenerator(1/255.0)"
   ]
  },
  {
   "cell_type": "code",
   "execution_count": null,
   "metadata": {
    "colab": {
     "base_uri": "https://localhost:8080/",
     "height": 34
    },
    "id": "LcIRdIm_Ak2E",
    "outputId": "9b533187-0ab9-4b6d-9c9d-7b4e56e4350f"
   },
   "outputs": [],
   "source": [
    "train_generator = data_gen.flow_from_directory(train_dir, target_size=(150, 150), class_mode=\"categorical\" )"
   ]
  },
  {
   "cell_type": "code",
   "execution_count": null,
   "metadata": {
    "colab": {
     "base_uri": "https://localhost:8080/",
     "height": 34
    },
    "id": "3HC1RLKaArow",
    "outputId": "593d3bf3-8edb-4d5a-8d65-c7b6f1a7c936"
   },
   "outputs": [],
   "source": [
    "train_generator.class_indices"
   ]
  },
  {
   "cell_type": "code",
   "execution_count": null,
   "metadata": {
    "id": "CmItXY-KAw5F"
   },
   "outputs": [],
   "source": [
    "model = Sequential()\n",
    "model.add(Conv2D(64, (3,3), activation=\"relu\", input_shape = (150, 150, 3)))\n",
    "model.add(MaxPool2D(pool_size=(2,2)))\n",
    "\n",
    "model.add(Conv2D(64, (3,3), activation=\"relu\"))\n",
    "model.add(MaxPool2D(pool_size=(2,2)))\n",
    "\n",
    "model.add(Conv2D(128, (3,3), activation=\"relu\"))\n",
    "model.add(MaxPool2D(pool_size=(2,2)))\n",
    "\n",
    "model.add(Conv2D(256, (3,3), activation=\"relu\"))\n",
    "model.add(MaxPool2D(pool_size=(2,2)))\n",
    "\n",
    "model.add(Conv2D(256, (3,3), activation=\"relu\"))\n",
    "model.add(MaxPool2D(pool_size=(2,2)))\n",
    "\n",
    "model.add(Flatten())\n",
    "model.add(Dropout(0.5))\n",
    "\n",
    "model.add(Dense(512, activation=\"relu\"))\n",
    "#output layer\n",
    "model.add(Dense(2, activation=\"softmax\"))\n",
    "model.compile(loss = \"categorical_crossentropy\", optimizer=\"rmsprop\", metrics=[\"accuracy\"])\n"
   ]
  },
  {
   "cell_type": "code",
   "execution_count": null,
   "metadata": {
    "colab": {
     "base_uri": "https://localhost:8080/",
     "height": 742
    },
    "id": "YbaCWQDUA7_Q",
    "outputId": "2b56e272-2479-444e-a865-62f29b9a9304"
   },
   "outputs": [],
   "source": [
    "H = model.fit(train_generator, epochs=20, verbose=1)"
   ]
  },
  {
   "cell_type": "code",
   "execution_count": null,
   "metadata": {
    "id": "VTZXPuDIBDT1"
   },
   "outputs": [],
   "source": [
    "from tensorflow.keras.preprocessing.image import load_img, img_to_array\n",
    "import numpy as np\n"
   ]
  },
  {
   "cell_type": "code",
   "execution_count": null,
   "metadata": {
    "id": "3k4ABWP3Edaf"
   },
   "outputs": [],
   "source": [
    "from google.colab import files"
   ]
  },
  {
   "cell_type": "code",
   "execution_count": null,
   "metadata": {
    "colab": {
     "base_uri": "https://localhost:8080/",
     "height": 110,
     "resources": {
      "http://localhost:8080/nbextensions/google.colab/files.js": {
       "data": "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",
       "headers": [
        [
         "content-type",
         "application/javascript"
        ]
       ],
       "ok": true,
       "status": 200,
       "status_text": ""
      }
     }
    },
    "id": "CFq1pGaqEitF",
    "outputId": "5c9fcfcd-cca1-4738-9adf-e95740599817"
   },
   "outputs": [],
   "source": [
    "files.upload()"
   ]
  },
  {
   "cell_type": "code",
   "execution_count": null,
   "metadata": {
    "id": "ZPQO6y5uEnyV"
   },
   "outputs": [],
   "source": [
    "image = load_img(\"maleria-infected-cell.png\", target_size=(150, 150))\n",
    "image = img_to_array(image)\n",
    "image = np.expand_dims(image, axis = 0)"
   ]
  },
  {
   "cell_type": "code",
   "execution_count": null,
   "metadata": {
    "colab": {
     "base_uri": "https://localhost:8080/",
     "height": 34
    },
    "id": "TOx-3JfwE4KN",
    "outputId": "ece41df4-8ee5-4cf0-9e17-65c9dd19df5a"
   },
   "outputs": [],
   "source": [
    "model.predict_classes(image)"
   ]
  },
  {
   "cell_type": "code",
   "execution_count": null,
   "metadata": {
    "colab": {
     "base_uri": "https://localhost:8080/",
     "height": 34
    },
    "id": "Ia6wjvnkFANp",
    "outputId": "77aee9ea-04c8-403c-9051-0ef273e19f98"
   },
   "outputs": [],
   "source": [
    "train_generator.class_indices"
   ]
  },
  {
   "cell_type": "code",
   "execution_count": null,
   "metadata": {
    "colab": {
     "base_uri": "https://localhost:8080/",
     "height": 110,
     "resources": {
      "http://localhost:8080/nbextensions/google.colab/files.js": {
       "data": "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",
       "headers": [
        [
         "content-type",
         "application/javascript"
        ]
       ],
       "ok": true,
       "status": 200,
       "status_text": ""
      }
     }
    },
    "id": "2ePOUJkRFq7H",
    "outputId": "f29f6769-0600-4612-bb4b-dc7d87299f11"
   },
   "outputs": [],
   "source": [
    "files.upload()"
   ]
  },
  {
   "cell_type": "code",
   "execution_count": null,
   "metadata": {
    "id": "UMKQlLaWFEFp"
   },
   "outputs": [],
   "source": [
    "image = load_img(\"Uninfected-maleria-cell.png\", target_size=(150, 150))\n",
    "image = img_to_array(image)\n",
    "image = np.expand_dims(image, axis = 0)"
   ]
  },
  {
   "cell_type": "code",
   "execution_count": null,
   "metadata": {
    "colab": {
     "base_uri": "https://localhost:8080/",
     "height": 34
    },
    "id": "oYCIX9K9Fzhk",
    "outputId": "9421fdb3-adbb-4228-cd98-67822b2ce0a1"
   },
   "outputs": [],
   "source": [
    "model.predict_classes(image)"
   ]
  },
  {
   "cell_type": "code",
   "execution_count": null,
   "metadata": {
    "colab": {
     "base_uri": "https://localhost:8080/",
     "height": 34
    },
    "id": "8c1AyQpKF8UU",
    "outputId": "205a8dbc-2741-40f2-e4cd-4ed1224ff01b"
   },
   "outputs": [],
   "source": [
    "train_generator.class_indices"
   ]
  }
 ],
 "metadata": {
  "accelerator": "GPU",
  "colab": {
   "name": "Maleria_detection_Project.ipynb",
   "provenance": []
  },
  "kernelspec": {
   "display_name": "Python 3",
   "language": "python",
   "name": "python3"
  },
  "language_info": {
   "codemirror_mode": {
    "name": "ipython",
    "version": 3
   },
   "file_extension": ".py",
   "mimetype": "text/x-python",
   "name": "python",
   "nbconvert_exporter": "python",
   "pygments_lexer": "ipython3",
   "version": "3.7.3"
  }
 },
 "nbformat": 4,
 "nbformat_minor": 1
}
